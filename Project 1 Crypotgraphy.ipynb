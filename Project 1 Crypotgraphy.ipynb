{
 "cells": [
  {
   "cell_type": "code",
   "execution_count": 3,
   "metadata": {},
   "outputs": [
    {
     "name": "stdout",
     "output_type": "stream",
     "text": [
      "Requirement already satisfied: cryptography in c:\\programdata\\anaconda3\\lib\\site-packages (3.1.1)\n",
      "Requirement already satisfied: six>=1.4.1 in c:\\programdata\\anaconda3\\lib\\site-packages (from cryptography) (1.15.0)\n",
      "Requirement already satisfied: cffi!=1.11.3,>=1.8 in c:\\programdata\\anaconda3\\lib\\site-packages (from cryptography) (1.14.3)\n",
      "Requirement already satisfied: pycparser in c:\\programdata\\anaconda3\\lib\\site-packages (from cffi!=1.11.3,>=1.8->cryptography) (2.20)\n"
     ]
    }
   ],
   "source": [
    "!pip install cryptography"
   ]
  },
  {
   "cell_type": "code",
   "execution_count": 158,
   "metadata": {},
   "outputs": [],
   "source": [
    "from cryptography.fernet import Fernet"
   ]
  },
  {
   "cell_type": "code",
   "execution_count": 159,
   "metadata": {},
   "outputs": [
    {
     "name": "stdout",
     "output_type": "stream",
     "text": [
      "b'Yyfs8J_gwjfpnrHFuyeYrqcoKcZ9bRcBgiUn12owCkk='\n",
      "<class 'bytes'>\n"
     ]
    }
   ],
   "source": [
    "key = Fernet.generate_key()\n",
    "f = Fernet(key)\n",
    "print(key)\n",
    "print(type(key))\n",
    "\n",
    "file =open('crypt.txt','wb')\n",
    "file.write(key)\n",
    "file.close()\n",
    "\n",
    "file =open('crypt.txt','rb')\n",
    "key =file.read()\n",
    "file.close()"
   ]
  },
  {
   "cell_type": "code",
   "execution_count": 166,
   "metadata": {},
   "outputs": [
    {
     "name": "stdout",
     "output_type": "stream",
     "text": [
      "Enter message to encode=CODE CORONA COVID 21\n",
      "b'gAAAAABf2x9GHX4ZXcUxLR4MVsrIR5vD40vVdQ2PmBBehzfarQLEjHxgE_VMx8PFFyA0Th7XYEvdtBnN7xZCI6CX20GwhlfqWSUYnWWxWt5qkpOaMH7ifCo='\n"
     ]
    }
   ],
   "source": [
    "code= input(\"Enter message to encode=\")\n",
    "message = code.encode()\n",
    "ecrypt = f.encrypt(message)\n",
    "print (ecrypt)"
   ]
  },
  {
   "cell_type": "code",
   "execution_count": 167,
   "metadata": {},
   "outputs": [
    {
     "name": "stdout",
     "output_type": "stream",
     "text": [
      "CODE CORONA COVID 21\n",
      "CRYPTOGRAPHTY success\n"
     ]
    }
   ],
   "source": [
    "d = f.decrypt(ecrypt)\n",
    "if d == message:\n",
    "    print (d.decode())\n",
    "    print(\"CRYPTOGRAPHTY success\")\n"
   ]
  },
  {
   "cell_type": "code",
   "execution_count": null,
   "metadata": {},
   "outputs": [],
   "source": []
  }
 ],
 "metadata": {
  "kernelspec": {
   "display_name": "Python 3",
   "language": "python",
   "name": "python3"
  },
  "language_info": {
   "codemirror_mode": {
    "name": "ipython",
    "version": 3
   },
   "file_extension": ".py",
   "mimetype": "text/x-python",
   "name": "python",
   "nbconvert_exporter": "python",
   "pygments_lexer": "ipython3",
   "version": "3.8.5"
  }
 },
 "nbformat": 4,
 "nbformat_minor": 4
}
